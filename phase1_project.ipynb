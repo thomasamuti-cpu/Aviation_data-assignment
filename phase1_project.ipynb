{
 "cells": [
  {
   "cell_type": "markdown",
   "id": "48d8ddf3",
   "metadata": {},
   "source": [
    "# Phase 1 Project"
   ]
  },
  {
   "cell_type": "markdown",
   "id": "4b7b6976",
   "metadata": {
    "vscode": {
     "languageId": "plaintext"
    }
   },
   "source": [
    "This project marks the end of Phase 1 part of the Moringa Data Science Program.\n",
    "In it, we have been given a data set to analyse with several expectations as below:"
   ]
  },
  {
   "cell_type": "markdown",
   "id": "7d13583a",
   "metadata": {
    "vscode": {
     "languageId": "plaintext"
    }
   },
   "source": [
    "## 1. Overview"
   ]
  },
  {
   "cell_type": "markdown",
   "id": "de1c40d8",
   "metadata": {
    "vscode": {
     "languageId": "plaintext"
    }
   },
   "source": [
    "This overview has been borrowed from the Canvas assignment:\n",
    "\n",
    "Our company is planning to diversify into the aviation business and plans to purchase and operate aircrafts for both commercial and private enterprises. Since the industry carries a lot of safety, financial and operational risks, the leadership wants to identify which aircraft models have the lowest risk investment while balancing safety, reliability and cost-effectiveness."
   ]
  },
  {
   "cell_type": "markdown",
   "id": "c0b6a5a8",
   "metadata": {},
   "source": [
    "## 2. Business Understanding"
   ]
  },
  {
   "cell_type": "markdown",
   "id": "fe9666a8",
   "metadata": {},
   "source": [
    "Our company aims to:\n",
    "\n",
    "### Objectives:\n",
    "\n",
    "To determine:\n",
    "\n",
    "1. Different aircraft make and models and categorize based on aircraft category and purpose of flight.\n",
    "\n",
    "Within each category, to determine the relation between Airplane Make and:\n",
    "\n",
    "2.  Operational cost effectiveness (Engine type).\n",
    "\n",
    "3. Safety risk (injury severity, total fatal injuries, total serious injuries, total minor injuries). \n",
    "\n",
    "4. Mechanical reliability and environmental susceptibility of the aircraft (aircraft damage).\n"
   ]
  },
  {
   "cell_type": "markdown",
   "id": "c41d5105",
   "metadata": {},
   "source": [
    "To determine success, this will be measured by delivering clear data presenting recommendations to guide procurement of the most suitable Aircraft Makes.\n",
    " "
   ]
  },
  {
   "cell_type": "markdown",
   "id": "f68cff14",
   "metadata": {},
   "source": [
    "## 3. Data Understanding"
   ]
  },
  {
   "cell_type": "markdown",
   "id": "cd538de4",
   "metadata": {},
   "source": [
    "### Data Source\n",
    "The data we will be using was sourced from the National Transportation Safety Board.\n",
    "\n",
    "### Data Description\n",
    "The data includes aviation accident data from 1962 to 2023 about civil aviation accidents and selected incidents in the United States and international waters and it captures the following:\n",
    "\n",
    "Event.Id\n",
    "\n",
    "Investigation.Type\n",
    "\n",
    "Accident.Number\n",
    "\n",
    "Event.Date\n",
    "\n",
    "Location\n",
    "\n",
    "Country\n",
    "\n",
    "Latitude\n",
    "\n",
    "Longitude\n",
    "\n",
    "Airport.Code\n",
    "\n",
    "Airport.Name\n",
    "\n",
    "Injury.Severity\n",
    "\n",
    "Aircraft.damage\n",
    "\n",
    "Aircraft.Category\n",
    "\n",
    "Registration.Number\n",
    "\n",
    "Make\n",
    "\n",
    "Model\n",
    "\n",
    "Amateur.Built\n",
    "\n",
    "Number.of.Engines\n",
    "\n",
    "Engine.Type\n",
    "\n",
    "FAR.Description\n",
    "\n",
    "Schedule\n",
    "\n",
    "Purpose.of.flight\n",
    "\n",
    "Air.carrier\n",
    "\n",
    "Total.Fatal.Injuries\n",
    "\n",
    "Total.Serious.Injuries\n",
    "\n",
    "Total.Minor.Injuries\n",
    "\n",
    "Total.Uninjured\n",
    "\n",
    "Weather.Condition\n",
    "\n",
    "Broad.phase.of.flight\n",
    "\n",
    "Report.Status\n",
    "\n",
    "Publication.Date\n"
   ]
  }
 ],
 "metadata": {
  "language_info": {
   "name": "python"
  }
 },
 "nbformat": 4,
 "nbformat_minor": 5
}
