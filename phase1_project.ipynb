{
 "cells": [
  {
   "cell_type": "markdown",
   "id": "48d8ddf3",
   "metadata": {},
   "source": [
    "# Phase 1 Project"
   ]
  },
  {
   "cell_type": "markdown",
   "id": "4b7b6976",
   "metadata": {
    "vscode": {
     "languageId": "plaintext"
    }
   },
   "source": [
    "This project marks the end of Phase 1 part of the Moringa Data Science Program.\n",
    "In it, we have been given a data set to analyse with several expectations as below:"
   ]
  },
  {
   "cell_type": "markdown",
   "id": "7d13583a",
   "metadata": {
    "vscode": {
     "languageId": "plaintext"
    }
   },
   "source": [
    "## 1. Overview"
   ]
  },
  {
   "cell_type": "markdown",
   "id": "de1c40d8",
   "metadata": {
    "vscode": {
     "languageId": "plaintext"
    }
   },
   "source": [
    "This overview has been borrowed from the Canvas assignment:\n",
    "\n",
    "Our company is planning to diversify into the aviation business and plans to purchase and operate aircrafts for both commercial and private enterprises. Since the industry carries a lot of safety, financial and operational risks, the leadership wants to identify which aircraft models have the lowest risk investment while balancing safety, reliability and cost-effectiveness."
   ]
  },
  {
   "cell_type": "markdown",
   "id": "c0b6a5a8",
   "metadata": {},
   "source": [
    "## 2. Business Understanding"
   ]
  },
  {
   "cell_type": "markdown",
   "id": "fe9666a8",
   "metadata": {},
   "source": [
    "Our company aims to:\n",
    "\n",
    "### Objectives:\n",
    "\n",
    "To determine:\n",
    "\n",
    "1. Different aircraft make and models and categorize based on aircraft category and purpose of flight.\n",
    "\n",
    "Within each category, to determine the relation between Airplane Make and:\n",
    "\n",
    "2.  Operational cost effectiveness (Engine type).\n",
    "\n",
    "3. Safety risk (injury severity, total fatal injuries, total serious injuries, total minor injuries). \n",
    "\n",
    "4. Mechanical reliability and environmental susceptibility of the aircraft (aircraft damage).\n"
   ]
  },
  {
   "cell_type": "markdown",
   "id": "c41d5105",
   "metadata": {},
   "source": [
    "To determine success, this will be measured by delivering clear data presenting recommendations to guide procurement of the most suitable Aircraft Makes.\n",
    " "
   ]
  },
  {
   "cell_type": "markdown",
   "id": "f68cff14",
   "metadata": {},
   "source": [
    "## 3. Data Understanding"
   ]
  },
  {
   "cell_type": "markdown",
   "id": "cd538de4",
   "metadata": {},
   "source": [
    "### Data Source\n",
    "The data we will be using was sourced from the National Transportation Safety Board.\n",
    "\n",
    "### Data Description\n",
    "The data includes aviation accident data from 1962 to 2023 about civil aviation accidents and selected incidents in the United States and international waters and it captures the following:\n",
    "\n",
    "Event.Id\n",
    "\n",
    "Investigation.Type\n",
    "\n",
    "Accident.Number\n",
    "\n",
    "Event.Date\n",
    "\n",
    "Location\n",
    "\n",
    "Country\n",
    "\n",
    "Latitude\n",
    "\n",
    "Longitude\n",
    "\n",
    "Airport.Code\n",
    "\n",
    "Airport.Name\n",
    "\n",
    "Injury.Severity\n",
    "\n",
    "Aircraft.damage\n",
    "\n",
    "Aircraft.Category\n",
    "\n",
    "Registration.Number\n",
    "\n",
    "Make\n",
    "\n",
    "Model\n",
    "\n",
    "Amateur.Built\n",
    "\n",
    "Number.of.Engines\n",
    "\n",
    "Engine.Type\n",
    "\n",
    "FAR.Description\n",
    "\n",
    "Schedule\n",
    "\n",
    "Purpose.of.flight\n",
    "\n",
    "Air.carrier\n",
    "\n",
    "Total.Fatal.Injuries\n",
    "\n",
    "Total.Serious.Injuries\n",
    "\n",
    "Total.Minor.Injuries\n",
    "\n",
    "Total.Uninjured\n",
    "\n",
    "Weather.Condition\n",
    "\n",
    "Broad.phase.of.flight\n",
    "\n",
    "Report.Status\n",
    "\n",
    "Publication.Date\n"
   ]
  },
  {
   "cell_type": "markdown",
   "id": "c0c795f0",
   "metadata": {},
   "source": [
    "This marks the end of the Data Preparation and Cleaning. "
   ]
  },
  {
   "cell_type": "markdown",
   "id": "2cacb5f8",
   "metadata": {},
   "source": [
    "## 4. Data analysis"
   ]
  },
  {
   "cell_type": "markdown",
   "id": "96fa8fa9",
   "metadata": {},
   "source": [
    "We will need several libraries for the following purposes:\n",
    "\n",
    "1. Pandas - to read, edit and save our python files.\n",
    "2. Numpy - for statistical computations for measures of central tendency and dispersion.\n",
    "3. Matplotlib and seaborn - for visualizations."
   ]
  },
  {
   "cell_type": "markdown",
   "id": "74e7054f",
   "metadata": {},
   "source": [
    "### 4.1 Data Preparation\n",
    "\n",
    "We shall first start off with data cleaning"
   ]
  },
  {
   "cell_type": "code",
   "execution_count": 1,
   "id": "641c0495",
   "metadata": {},
   "outputs": [],
   "source": [
    "# importing necessary libraries\n",
    "\n",
    "import pandas as pd\n",
    "import numpy as np\n",
    "import matplotlib.pyplot as plt\n",
    "%matplotlib inline\n",
    "import seaborn as sns"
   ]
  },
  {
   "cell_type": "code",
   "execution_count": 2,
   "id": "60820f12",
   "metadata": {},
   "outputs": [
    {
     "name": "stderr",
     "output_type": "stream",
     "text": [
      "c:\\Users\\PC\\anaconda3\\envs\\learn-env\\lib\\site-packages\\IPython\\core\\interactiveshell.py:3145: DtypeWarning: Columns (6,7,28) have mixed types.Specify dtype option on import or set low_memory=False.\n",
      "  has_raised = await self.run_ast_nodes(code_ast.body, cell_name,\n"
     ]
    }
   ],
   "source": [
    "# read into our aviation csv data using pandas and save it as variable name - aviation_data\n",
    "\n",
    "aviation_data = pd.read_csv('Aviation_Data.csv')"
   ]
  },
  {
   "cell_type": "code",
   "execution_count": 3,
   "id": "8196dcb2",
   "metadata": {},
   "outputs": [
    {
     "data": {
      "text/plain": [
       "Index(['Event.Id', 'Investigation.Type', 'Accident.Number', 'Event.Date',\n",
       "       'Location', 'Country', 'Latitude', 'Longitude', 'Airport.Code',\n",
       "       'Airport.Name', 'Injury.Severity', 'Aircraft.damage',\n",
       "       'Aircraft.Category', 'Registration.Number', 'Make', 'Model',\n",
       "       'Amateur.Built', 'Number.of.Engines', 'Engine.Type', 'FAR.Description',\n",
       "       'Schedule', 'Purpose.of.flight', 'Air.carrier', 'Total.Fatal.Injuries',\n",
       "       'Total.Serious.Injuries', 'Total.Minor.Injuries', 'Total.Uninjured',\n",
       "       'Weather.Condition', 'Broad.phase.of.flight', 'Report.Status',\n",
       "       'Publication.Date'],\n",
       "      dtype='object')"
      ]
     },
     "execution_count": 3,
     "metadata": {},
     "output_type": "execute_result"
    }
   ],
   "source": [
    "# read into our first 5 rows to understand how the data is organized\n",
    "aviation_data.head()\n",
    "\n",
    "# lets look at the columns we have to define further our data requirements\n",
    "aviation_data.columns"
   ]
  },
  {
   "cell_type": "code",
   "execution_count": 4,
   "id": "f86ed5cf",
   "metadata": {},
   "outputs": [
    {
     "name": "stdout",
     "output_type": "stream",
     "text": [
      "<class 'pandas.core.frame.DataFrame'>\n",
      "RangeIndex: 90348 entries, 0 to 90347\n",
      "Data columns (total 31 columns):\n",
      " #   Column                  Non-Null Count  Dtype  \n",
      "---  ------                  --------------  -----  \n",
      " 0   Event.Id                88889 non-null  object \n",
      " 1   Investigation.Type      90348 non-null  object \n",
      " 2   Accident.Number         88889 non-null  object \n",
      " 3   Event.Date              88889 non-null  object \n",
      " 4   Location                88837 non-null  object \n",
      " 5   Country                 88663 non-null  object \n",
      " 6   Latitude                34382 non-null  object \n",
      " 7   Longitude               34373 non-null  object \n",
      " 8   Airport.Code            50249 non-null  object \n",
      " 9   Airport.Name            52790 non-null  object \n",
      " 10  Injury.Severity         87889 non-null  object \n",
      " 11  Aircraft.damage         85695 non-null  object \n",
      " 12  Aircraft.Category       32287 non-null  object \n",
      " 13  Registration.Number     87572 non-null  object \n",
      " 14  Make                    88826 non-null  object \n",
      " 15  Model                   88797 non-null  object \n",
      " 16  Amateur.Built           88787 non-null  object \n",
      " 17  Number.of.Engines       82805 non-null  float64\n",
      " 18  Engine.Type             81812 non-null  object \n",
      " 19  FAR.Description         32023 non-null  object \n",
      " 20  Schedule                12582 non-null  object \n",
      " 21  Purpose.of.flight       82697 non-null  object \n",
      " 22  Air.carrier             16648 non-null  object \n",
      " 23  Total.Fatal.Injuries    77488 non-null  float64\n",
      " 24  Total.Serious.Injuries  76379 non-null  float64\n",
      " 25  Total.Minor.Injuries    76956 non-null  float64\n",
      " 26  Total.Uninjured         82977 non-null  float64\n",
      " 27  Weather.Condition       84397 non-null  object \n",
      " 28  Broad.phase.of.flight   61724 non-null  object \n",
      " 29  Report.Status           82508 non-null  object \n",
      " 30  Publication.Date        73659 non-null  object \n",
      "dtypes: float64(5), object(26)\n",
      "memory usage: 21.4+ MB\n"
     ]
    }
   ],
   "source": [
    "#let us check the total length of the data frame, rows, columns and missing entries\n",
    "aviation_data.info()"
   ]
  },
  {
   "cell_type": "markdown",
   "id": "ca40fb63",
   "metadata": {},
   "source": [
    "\n",
    "The dataset had a total of 90,348 rows (entries) and 31 columns. \n",
    "Out of the many columns in the previous cell, we need to define the ones we will be using for our analysis.\n",
    "The project expects us to determine the best aircraft based on accidents profile. Therefore the following columns may be necessary.\n",
    "Out of the 31 columns, we have selected the 12 below to answer our objectives that were listed above:\n",
    "\n",
    "1. Event Date \n",
    "2. Total Fatal Injuries\n",
    "3. Total Serious Injuries\n",
    "4. Total minor injuries\n",
    "5. Injury Severity\n",
    "6. Aircraft Damage\n",
    "7. Make - type of aircraft\n",
    "8 Model - type of the model of the make\n",
    "9. Engine type\n",
    "10. Aircraft Category \n",
    "11. Purpose of flight\n",
    "12. Air carrier\n",
    "\n"
   ]
  },
  {
   "cell_type": "code",
   "execution_count": 5,
   "id": "0eedac8e",
   "metadata": {},
   "outputs": [],
   "source": [
    "# let us create a variable name 'selected_columns' which has the columns we purposefully selected for this assignment\n",
    "selected_columns = ['Event.Date', 'Injury.Severity', 'Aircraft.damage', 'Aircraft.Category', 'Make', 'Model', 'Engine.Type',\n",
    "'Purpose.of.flight', 'Air.carrier', 'Total.Fatal.Injuries',\n",
    "       'Total.Serious.Injuries', 'Total.Minor.Injuries']"
   ]
  },
  {
   "cell_type": "code",
   "execution_count": 6,
   "id": "6939fba2",
   "metadata": {},
   "outputs": [],
   "source": [
    "# let us re-create our aviation_data dataset with only the selected columns:\n",
    "aviation_data = aviation_data[selected_columns]"
   ]
  },
  {
   "cell_type": "code",
   "execution_count": 7,
   "id": "5340af58",
   "metadata": {},
   "outputs": [
    {
     "data": {
      "text/plain": [
       "(Index(['Event.Date', 'Injury.Severity', 'Aircraft.damage', 'Aircraft.Category',\n",
       "        'Make', 'Model', 'Engine.Type', 'Purpose.of.flight', 'Air.carrier',\n",
       "        'Total.Fatal.Injuries', 'Total.Serious.Injuries',\n",
       "        'Total.Minor.Injuries'],\n",
       "       dtype='object'),\n",
       " 12)"
      ]
     },
     "execution_count": 7,
     "metadata": {},
     "output_type": "execute_result"
    }
   ],
   "source": [
    "# let us check out the column names to confirm that we only have the selected columns as well as the fact that they should be only 12\n",
    "aviation_data.columns, len(aviation_data.columns)"
   ]
  },
  {
   "cell_type": "markdown",
   "id": "e02e62b6",
   "metadata": {},
   "source": [
    "#### Handling missing data"
   ]
  },
  {
   "cell_type": "code",
   "execution_count": 8,
   "id": "82b67e08",
   "metadata": {},
   "outputs": [
    {
     "name": "stdout",
     "output_type": "stream",
     "text": [
      "<class 'pandas.core.frame.DataFrame'>\n",
      "RangeIndex: 90348 entries, 0 to 90347\n",
      "Data columns (total 12 columns):\n",
      " #   Column                  Non-Null Count  Dtype  \n",
      "---  ------                  --------------  -----  \n",
      " 0   Event.Date              88889 non-null  object \n",
      " 1   Injury.Severity         87889 non-null  object \n",
      " 2   Aircraft.damage         85695 non-null  object \n",
      " 3   Aircraft.Category       32287 non-null  object \n",
      " 4   Make                    88826 non-null  object \n",
      " 5   Model                   88797 non-null  object \n",
      " 6   Engine.Type             81812 non-null  object \n",
      " 7   Purpose.of.flight       82697 non-null  object \n",
      " 8   Air.carrier             16648 non-null  object \n",
      " 9   Total.Fatal.Injuries    77488 non-null  float64\n",
      " 10  Total.Serious.Injuries  76379 non-null  float64\n",
      " 11  Total.Minor.Injuries    76956 non-null  float64\n",
      "dtypes: float64(3), object(9)\n",
      "memory usage: 8.3+ MB\n"
     ]
    }
   ],
   "source": [
    "# let us go through each of the selected columns again and determine their data types and how many missing values they have\n",
    "aviation_data.info()"
   ]
  },
  {
   "cell_type": "code",
   "execution_count": 9,
   "id": "08bf6c69",
   "metadata": {},
   "outputs": [
    {
     "name": "stdout",
     "output_type": "stream",
     "text": [
      "Total.Fatal.Injuries 12860\n",
      "Total.Serious.Injuries 13969\n",
      "Total.Minor.Injuries 13392\n"
     ]
    }
   ],
   "source": [
    "# Before we can do an analysis on our data, we first need to fill in the missing values based on the type of data.\n",
    "# We have 5 columns that are float data type (numeric) and 11 that are object (non-numeric)\n",
    "# Let us create a for loop to determine how many missing values first in the float64 columns:\n",
    "for column in aviation_data.columns:\n",
    "    if aviation_data[column].dtype == 'float64':\n",
    "        print (column, aviation_data[column].isna().sum())"
   ]
  },
  {
   "cell_type": "code",
   "execution_count": 10,
   "id": "f26525ad",
   "metadata": {},
   "outputs": [
    {
     "name": "stdout",
     "output_type": "stream",
     "text": [
      "Event.Date 1459\n",
      "Injury.Severity 2459\n",
      "Aircraft.damage 4653\n",
      "Aircraft.Category 58061\n",
      "Make 1522\n",
      "Model 1551\n",
      "Engine.Type 8536\n",
      "Purpose.of.flight 7651\n",
      "Air.carrier 73700\n"
     ]
    }
   ],
   "source": [
    "# let us do the same but now for the object column:\n",
    "for object_column in aviation_data.columns:\n",
    "    if aviation_data[object_column].dtype == 'object':\n",
    "        print (object_column, aviation_data[object_column].isna().sum())"
   ]
  },
  {
   "cell_type": "code",
   "execution_count": 11,
   "id": "b644a9f2",
   "metadata": {},
   "outputs": [
    {
     "data": {
      "text/html": [
       "<div>\n",
       "<style scoped>\n",
       "    .dataframe tbody tr th:only-of-type {\n",
       "        vertical-align: middle;\n",
       "    }\n",
       "\n",
       "    .dataframe tbody tr th {\n",
       "        vertical-align: top;\n",
       "    }\n",
       "\n",
       "    .dataframe thead th {\n",
       "        text-align: right;\n",
       "    }\n",
       "</style>\n",
       "<table border=\"1\" class=\"dataframe\">\n",
       "  <thead>\n",
       "    <tr style=\"text-align: right;\">\n",
       "      <th></th>\n",
       "      <th>Total.Fatal.Injuries</th>\n",
       "      <th>Total.Serious.Injuries</th>\n",
       "      <th>Total.Minor.Injuries</th>\n",
       "    </tr>\n",
       "  </thead>\n",
       "  <tbody>\n",
       "    <tr>\n",
       "      <th>count</th>\n",
       "      <td>77488.000000</td>\n",
       "      <td>76379.000000</td>\n",
       "      <td>76956.000000</td>\n",
       "    </tr>\n",
       "    <tr>\n",
       "      <th>mean</th>\n",
       "      <td>0.647855</td>\n",
       "      <td>0.279881</td>\n",
       "      <td>0.357061</td>\n",
       "    </tr>\n",
       "    <tr>\n",
       "      <th>std</th>\n",
       "      <td>5.485960</td>\n",
       "      <td>1.544084</td>\n",
       "      <td>2.235625</td>\n",
       "    </tr>\n",
       "    <tr>\n",
       "      <th>min</th>\n",
       "      <td>0.000000</td>\n",
       "      <td>0.000000</td>\n",
       "      <td>0.000000</td>\n",
       "    </tr>\n",
       "    <tr>\n",
       "      <th>25%</th>\n",
       "      <td>0.000000</td>\n",
       "      <td>0.000000</td>\n",
       "      <td>0.000000</td>\n",
       "    </tr>\n",
       "    <tr>\n",
       "      <th>50%</th>\n",
       "      <td>0.000000</td>\n",
       "      <td>0.000000</td>\n",
       "      <td>0.000000</td>\n",
       "    </tr>\n",
       "    <tr>\n",
       "      <th>75%</th>\n",
       "      <td>0.000000</td>\n",
       "      <td>0.000000</td>\n",
       "      <td>0.000000</td>\n",
       "    </tr>\n",
       "    <tr>\n",
       "      <th>max</th>\n",
       "      <td>349.000000</td>\n",
       "      <td>161.000000</td>\n",
       "      <td>380.000000</td>\n",
       "    </tr>\n",
       "  </tbody>\n",
       "</table>\n",
       "</div>"
      ],
      "text/plain": [
       "       Total.Fatal.Injuries  Total.Serious.Injuries  Total.Minor.Injuries\n",
       "count          77488.000000            76379.000000          76956.000000\n",
       "mean               0.647855                0.279881              0.357061\n",
       "std                5.485960                1.544084              2.235625\n",
       "min                0.000000                0.000000              0.000000\n",
       "25%                0.000000                0.000000              0.000000\n",
       "50%                0.000000                0.000000              0.000000\n",
       "75%                0.000000                0.000000              0.000000\n",
       "max              349.000000              161.000000            380.000000"
      ]
     },
     "execution_count": 11,
     "metadata": {},
     "output_type": "execute_result"
    }
   ],
   "source": [
    "# Now that we have both the numeric as well as the non numeric information with missing values\n",
    "# Let us first start by filling in the missing values in the numeric column.\n",
    "# We will begin by first getting the measures of central tendencies of the data\n",
    "\n",
    "aviation_data.describe()"
   ]
  },
  {
   "cell_type": "code",
   "execution_count": 12,
   "id": "bbfd3be9",
   "metadata": {},
   "outputs": [
    {
     "name": "stdout",
     "output_type": "stream",
     "text": [
      "Total.Fatal.Injuries 0.0\n",
      "Total.Serious.Injuries 0.0\n",
      "Total.Minor.Injuries 0.0\n"
     ]
    }
   ],
   "source": [
    "# For the remaining numerical data, they have wide range of observations between 0 to maximum, therefore the 'mean' might not be the best measure of central tendency. \n",
    "# Let us look at the median\n",
    "# using a for loop\n",
    "\n",
    "for column in aviation_data.columns:\n",
    "    if aviation_data[column].dtype == 'float64':\n",
    "        print (column, aviation_data[column].median())"
   ]
  },
  {
   "cell_type": "code",
   "execution_count": 13,
   "id": "04d2d586",
   "metadata": {},
   "outputs": [],
   "source": [
    "# It looks like in many injuries, the majority of the number of injuries per accident were not as high. Let us see this with the help of a boxplot for each of the numerical data\n",
    "# let us create a function that will do this for each of the numeric data\n",
    "\n",
    "def box_plot_data(column):\n",
    "    \"\"\"\n",
    "    Plots a box plot of the column so that we can visually see the spread of the data to better make sense of the low mean and median values we are getting\n",
    "    \"\"\"\n",
    "    return sns.boxplot(column)\n",
    "    \n",
    "    "
   ]
  },
  {
   "cell_type": "code",
   "execution_count": 14,
   "id": "b889740a",
   "metadata": {},
   "outputs": [
    {
     "data": {
      "image/png": "[encoded data removed]",
      "text/plain": [
       "<Figure size 432x288 with 1 Axes>"
      ]
     },
     "metadata": {
      "needs_background": "light"
     },
     "output_type": "display_data"
    },
    {
     "data": {
      "image/png": "[encoded data removed]",
      "text/plain": [
       "<Figure size 432x288 with 1 Axes>"
      ]
     },
     "metadata": {
      "needs_background": "light"
     },
     "output_type": "display_data"
    },
    {
     "data": {
      "image/png": "[encoded data removed]",
      "text/plain": [
       "<Figure size 432x288 with 1 Axes>"
      ]
     },
     "metadata": {
      "needs_background": "light"
     },
     "output_type": "display_data"
    }
   ],
   "source": [
    "# let us employ the 'box_plot_data' function in a for loop\n",
    "\n",
    "for column in aviation_data.columns:\n",
    "    if aviation_data[column].dtype == 'float64':\n",
    "        plt.figure(figsize=(6, 4))\n",
    "        sns.boxplot(y=aviation_data[column])\n",
    "        plt.title(f\"Box Plot of {column}\")\n",
    "        plt.show()"
   ]
  },
  {
   "cell_type": "code",
   "execution_count": 15,
   "id": "7c448097",
   "metadata": {},
   "outputs": [],
   "source": [
    "# The boxplots shown above have alot of outlier values. In our filling of missing values THEN, we will not opt to drop out our values, since each accident matters.\n",
    "# We will not opt to fill with mean since outliers might inflate the mean\n",
    "# We will therefore fill in with the median instead \n",
    "# Again, we will use a for loop and set argument inplace = True to save our changes in the dataframe.\n",
    "\n",
    "for column in aviation_data.columns:\n",
    "    if aviation_data[column].dtype == 'float64':\n",
    "        aviation_data[column].fillna(aviation_data[column].median(), inplace = True)\n",
    "    "
   ]
  },
  {
   "cell_type": "code",
   "execution_count": 16,
   "id": "36d65ca8",
   "metadata": {},
   "outputs": [
    {
     "name": "stdout",
     "output_type": "stream",
     "text": [
      "Total.Fatal.Injuries 0\n",
      "Total.Serious.Injuries 0\n",
      "Total.Minor.Injuries 0\n"
     ]
    }
   ],
   "source": [
    "# Let us confirm that we have filled in our missing numerical values with their medians and that there are no other missing values\n",
    "for column in aviation_data.columns:\n",
    "    if aviation_data[column].dtype == 'float64':\n",
    "        print(column, aviation_data[column].isna().sum())"
   ]
  },
  {
   "cell_type": "code",
   "execution_count": 17,
   "id": "6ed74a9c",
   "metadata": {},
   "outputs": [
    {
     "name": "stdout",
     "output_type": "stream",
     "text": [
      "Event.Date 1459\n",
      "Injury.Severity 2459\n",
      "Aircraft.damage 4653\n",
      "Aircraft.Category 58061\n",
      "Make 1522\n",
      "Model 1551\n",
      "Engine.Type 8536\n",
      "Purpose.of.flight 7651\n",
      "Air.carrier 73700\n"
     ]
    }
   ],
   "source": [
    "# let us now go back to the categorical columns which also had missing values\n",
    "# copying the code we used:\n",
    "\n",
    "for object_column in aviation_data.columns:\n",
    "    if aviation_data[object_column].dtype == 'object':\n",
    "        print (object_column, aviation_data[object_column].isna().sum())"
   ]
  },
  {
   "cell_type": "code",
   "execution_count": 18,
   "id": "541c1c3d",
   "metadata": {},
   "outputs": [],
   "source": [
    "# our total data length was 90,348. Some of our categorical values seem to be largely missing such as: Air carrier (73700) and schedule (77766) as well as aircraft category (58061).\n",
    "# Despite the fact that all accidents matter, trying to fill in these missing values might affect the overall interpretation of data. However dropping them might also lead to attrition bias, where we have lost too much data.\n",
    "# We will therefore opt to fill in the columns with less than 10% missing values with mode but drop all the columns with more than 10% missing values\n",
    "\n",
    "for object_column in aviation_data.columns:\n",
    "    if aviation_data[object_column].dtype == 'object':\n",
    "        if aviation_data[object_column].isna().sum() < 9035:\n",
    "            aviation_data[object_column].fillna(aviation_data[object_column].mode()[0], inplace = True)\n",
    "        else:\n",
    "            aviation_data.dropna(subset = [object_column], inplace = True)\n",
    "\n"
   ]
  },
  {
   "cell_type": "code",
   "execution_count": 19,
   "id": "b2785b8a",
   "metadata": {},
   "outputs": [
    {
     "name": "stdout",
     "output_type": "stream",
     "text": [
      "Event.Date 0\n",
      "Injury.Severity 0\n",
      "Aircraft.damage 0\n",
      "Aircraft.Category 0\n",
      "Make 0\n",
      "Model 0\n",
      "Engine.Type 0\n",
      "Purpose.of.flight 0\n",
      "Air.carrier 0\n"
     ]
    }
   ],
   "source": [
    "# let us confirm that our missing categorical values are dropped and that there are no missing values\n",
    "for object_column in aviation_data.columns:\n",
    "    if aviation_data[object_column].dtype == 'object':\n",
    "        print (object_column, aviation_data[object_column].isna().sum())"
   ]
  },
  {
   "cell_type": "code",
   "execution_count": 20,
   "id": "636d1830",
   "metadata": {},
   "outputs": [
    {
     "data": {
      "text/plain": [
       "13625"
      ]
     },
     "execution_count": 20,
     "metadata": {},
     "output_type": "execute_result"
    }
   ],
   "source": [
    "# let us now check the number of entries we are working with:\n",
    "len(aviation_data) # unfortunately, we have dropped from 90348 entries to 3488 due to the missing entries in the non-numerical columns"
   ]
  },
  {
   "cell_type": "markdown",
   "id": "1461f434",
   "metadata": {},
   "source": [
    "#### Handling Duplicates"
   ]
  },
  {
   "cell_type": "code",
   "execution_count": 21,
   "id": "66c7327c",
   "metadata": {},
   "outputs": [
    {
     "data": {
      "text/plain": [
       "0"
      ]
     },
     "execution_count": 21,
     "metadata": {},
     "output_type": "execute_result"
    }
   ],
   "source": [
    "# Before we wind up on Data cleaning and go on to analysis, let us check if there are duplicates and drop them \n",
    "\n",
    "aviation_data.duplicated().sum()\n",
    "\n",
    "# there are only 3 duplicate entries. We opt to drop them\n",
    "\n",
    "aviation_data.drop_duplicates(inplace = True)\n",
    "\n",
    "# let us recheck that duplicates are dropped\n",
    "aviation_data.duplicated().sum() # The duplicates are all dropped.\n"
   ]
  },
  {
   "cell_type": "markdown",
   "id": "f43511c1",
   "metadata": {},
   "source": [
    "#### Standardize and confirm uniqueness of value counts of Categorical Variables"
   ]
  },
  {
   "cell_type": "code",
   "execution_count": 22,
   "id": "b563adde",
   "metadata": {},
   "outputs": [
    {
     "name": "stdout",
     "output_type": "stream",
     "text": [
      "Event.Date  2011-06-18    15\n",
      "2012-08-31    13\n",
      "2011-08-13    12\n",
      "2011-07-23    12\n",
      "2011-04-01    11\n",
      "              ..\n",
      "1982-06-02     1\n",
      "2017-10-12     1\n",
      "2017-09-19     1\n",
      "2017-01-31     1\n",
      "2015-01-27     1\n",
      "Name: Event.Date, Length: 4953, dtype: int64\n",
      "Injury.Severity  Non-Fatal    10850\n",
      "Fatal         2478\n",
      "Minor           88\n",
      "Incident        77\n",
      "Serious         76\n",
      "Fatal(1)        17\n",
      "Fatal(2)        16\n",
      "Fatal(4)         6\n",
      "Fatal(3)         6\n",
      "Fatal(6)         2\n",
      "Fatal(8)         2\n",
      "Fatal(27)        1\n",
      "Fatal(65)        1\n",
      "Fatal(13)        1\n",
      "Fatal(10)        1\n",
      "Fatal(5)         1\n",
      "Fatal(9)         1\n",
      "Name: Injury.Severity, dtype: int64\n",
      "Aircraft.damage  Substantial    11586\n",
      "Destroyed       1323\n",
      "Minor            675\n",
      "Unknown           40\n",
      "Name: Aircraft.damage, dtype: int64\n",
      "Aircraft.Category  Airplane             11266\n",
      "Helicopter            1914\n",
      "Glider                 190\n",
      "Balloon                 97\n",
      "Weight-Shift            65\n",
      "Powered Parachute       40\n",
      "Gyrocraft               36\n",
      "Ultralight               8\n",
      "WSFT                     3\n",
      "Unknown                  2\n",
      "UNK                      1\n",
      "Blimp                    1\n",
      "Rocket                   1\n",
      "Name: Aircraft.Category, dtype: int64\n",
      "Make  CESSNA                           2782\n",
      "PIPER                            1520\n",
      "BOEING                            717\n",
      "BEECH                             545\n",
      "Cessna                            507\n",
      "                                 ... \n",
      "Blanik                              1\n",
      "JABIRU                              1\n",
      "Piper Cub Crafters                  1\n",
      "SORENSEN                            1\n",
      "SIKORSKY AIRCRAFT CORPORATION       1\n",
      "Name: Make, Length: 1958, dtype: int64\n",
      "Model  172          418\n",
      "737          264\n",
      "R44          168\n",
      "172S         167\n",
      "152          163\n",
      "            ... \n",
      "OV-10B         1\n",
      "VENTUS 2B      1\n",
      "DH 82A         1\n",
      "KELLY D        1\n",
      "ASTRA HKS      1\n",
      "Name: Model, Length: 3531, dtype: int64\n",
      "Engine.Type  Reciprocating      10829\n",
      "Turbo Prop           933\n",
      "Turbo Shaft          919\n",
      "Turbo Fan            783\n",
      "Turbo Jet            109\n",
      "Unknown               17\n",
      "Geared Turbofan       12\n",
      "None                  11\n",
      "Electric               6\n",
      "LR                     2\n",
      "NONE                   1\n",
      "UNK                    1\n",
      "Hybrid Rocket          1\n",
      "Name: Engine.Type, dtype: int64\n",
      "Purpose.of.flight  Personal                     8241\n",
      "Instructional                1961\n",
      "Aerial Application            884\n",
      "Unknown                       421\n",
      "Business                      388\n",
      "Positioning                   353\n",
      "Other Work Use                277\n",
      "Aerial Observation            231\n",
      "Flight Test                   146\n",
      "External Load                  95\n",
      "Executive/corporate            85\n",
      "Skydiving                      81\n",
      "Public Aircraft - Federal      74\n",
      "Ferry                          67\n",
      "Banner Tow                     61\n",
      "Public Aircraft - Local        59\n",
      "Public Aircraft - State        47\n",
      "Air Race show                  43\n",
      "Public Aircraft                36\n",
      "Glider Tow                     34\n",
      "Firefighting                   28\n",
      "Air Drop                        6\n",
      "PUBS                            3\n",
      "ASHO                            2\n",
      "PUBL                            1\n",
      "Name: Purpose.of.flight, dtype: int64\n",
      "Air.carrier  Pilot                                    257\n",
      "American Airlines                         47\n",
      "United Airlines                           43\n",
      "Delta Air Lines                           42\n",
      "SOUTHWEST AIRLINES CO                     41\n",
      "                                        ... \n",
      "Williams Mirage LLC                        1\n",
      "Olsem Aerial Application Services Llc      1\n",
      "Osage Air LLC                              1\n",
      "TIDEWATER FLYING CLUB INC                  1\n",
      "SOUTHEASTERN AERIAL CROP SERVICE INC       1\n",
      "Name: Air.carrier, Length: 11541, dtype: int64\n"
     ]
    }
   ],
   "source": [
    "# Let us check the output of value counts in the categorical variables using a for loop\n",
    "for object_column in aviation_data.columns:\n",
    "    if aviation_data[object_column].dtype == 'object':\n",
    "        print (object_column, '', aviation_data[object_column].value_counts())"
   ]
  },
  {
   "cell_type": "code",
   "execution_count": 23,
   "id": "f4217add",
   "metadata": {},
   "outputs": [],
   "source": [
    "# from the above output, the value_counts of the 'injury-severity' has too many 'Fatal' outputs that can be merged into one fatal output.\n",
    "# Let us use the .replace() function to do this.\n",
    "\n",
    "aviation_data['Injury.Severity'] = aviation_data['Injury.Severity'].replace(\n",
    "    to_replace=r'Fatal.*', \n",
    "    value='Fatal', \n",
    "    regex=True,\n",
    ")\n"
   ]
  },
  {
   "cell_type": "code",
   "execution_count": 24,
   "id": "0c28fd14",
   "metadata": {},
   "outputs": [
    {
     "data": {
      "text/plain": [
       "Non-Fatal    10850\n",
       "Fatal         2533\n",
       "Minor           88\n",
       "Incident        77\n",
       "Serious         76\n",
       "Name: Injury.Severity, dtype: int64"
      ]
     },
     "execution_count": 24,
     "metadata": {},
     "output_type": "execute_result"
    }
   ],
   "source": [
    "# Let us confirm that we have converted all 'Fatals' into one.\n",
    "aviation_data['Injury.Severity'].value_counts()"
   ]
  },
  {
   "cell_type": "code",
   "execution_count": 25,
   "id": "c771dc45",
   "metadata": {},
   "outputs": [],
   "source": [
    "# In the aviation['data'] Cessna is represented twice as cessna (in small letters) and CESSNA (in capital letters) as well as BOEING and boeing\n",
    "# Let us also edit the value_counts of these outputs by first stripping all the letters in the words then making onlt the first letter Capital.\n",
    "\n",
    "aviation_data['Make'] = aviation_data['Make'].astype(str).str.strip().str.title()"
   ]
  },
  {
   "cell_type": "code",
   "execution_count": null,
   "id": "619240a4",
   "metadata": {},
   "outputs": [
    {
     "data": {
      "text/plain": [
       "Personal                     8241\n",
       "Instructional                1961\n",
       "Aerial Application            884\n",
       "Business                      388\n",
       "Positioning                   353\n",
       "Other Work Use                277\n",
       "Aerial Observation            231\n",
       "Flight Test                   146\n",
       "External Load                  95\n",
       "Executive/corporate            85\n",
       "Skydiving                      81\n",
       "Public Aircraft - Federal      74\n",
       "Ferry                          67\n",
       "Banner Tow                     61\n",
       "Public Aircraft - Local        59\n",
       "Public Aircraft - State        47\n",
       "Air Race show                  43\n",
       "Public Aircraft                36\n",
       "Glider Tow                     34\n",
       "Firefighting                   28\n",
       "Air Drop                        6\n",
       "PUBS                            3\n",
       "ASHO                            2\n",
       "PUBL                            1\n",
       "Name: Purpose.of.flight, dtype: int64"
      ]
     },
     "execution_count": 26,
     "metadata": {},
     "output_type": "execute_result"
    }
   ],
   "source": [
    "# Note that the data on purpose of flight has a lot of unknown values (2864)\n",
    "\n",
    "#Remove rows where Purpose.of.flight is \"Unknown\"\n",
    "\n",
    "aviation_data = aviation_data[aviation_data['Purpose.of.flight'].str.upper() != 'UNKNOWN']\n",
    "\n",
    "# Check the result\n",
    "aviation_data['Purpose.of.flight'].value_counts()   # we have removed the large number of unknown values  "
   ]
  }
 ],
 "metadata": {
  "kernelspec": {
   "display_name": "learn-env",
   "language": "python",
   "name": "python3"
  },
  "language_info": {
   "codemirror_mode": {
    "name": "ipython",
    "version": 3
   },
   "file_extension": ".py",
   "mimetype": "text/x-python",
   "name": "python",
   "nbconvert_exporter": "python",
   "pygments_lexer": "ipython3",
   "version": "3.8.5"
  }
 },
 "nbformat": 4,
 "nbformat_minor": 5
}
